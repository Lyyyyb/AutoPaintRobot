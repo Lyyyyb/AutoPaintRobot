{
 "cells": [
  {
   "cell_type": "markdown",
   "id": "60d186d5",
   "metadata": {},
   "source": [
    "## [安装python-can](https://python-can.readthedocs.io/en/master/installation.html)\n",
    "\n",
    "## 视频教程：[手把手教你用Python控制小米微电机](https://www.bilibili.com/video/BV1Qu411P73S)"
   ]
  },
  {
   "cell_type": "code",
   "execution_count": 8,
   "id": "a8708012",
   "metadata": {},
   "outputs": [],
   "source": [
    "import os\n",
    "import sys\n",
    "# 添加pcan_cybergear库的路径\n",
    "sys.path.append(os.path.join(\"..\", \"cybergear\"))\n",
    "\n",
    "from pcan_cybergear import CANMotorController\n",
    "import can\n",
    "import logging\n",
    "# Initialize logging\n",
    "logging.basicConfig(level=logging.INFO, format='%(asctime)s - %(levelname)s - %(message)s')"
   ]
  },
  {
   "cell_type": "code",
   "execution_count": 13,
   "id": "bcee4222",
   "metadata": {},
   "outputs": [],
   "source": [
    "# Connect to the CAN bus with 1 Mbit/s bitrate\n",
    "bus = can.interface.Bus(bustype=\"pcan\", channel=\"PCAN_USBBUS1\", bitrate=1000000)\n",
    "motor = CANMotorController(bus, motor_id=127, main_can_id=254)"
   ]
  },
  {
   "cell_type": "markdown",
   "id": "44adf8c9",
   "metadata": {},
   "source": [
    "## Jog\n",
    "单个参数写入（通信类型 18）"
   ]
  },
  {
   "cell_type": "code",
   "execution_count": 4,
   "id": "b91bd39f",
   "metadata": {},
   "outputs": [
    {
     "name": "stderr",
     "output_type": "stream",
     "text": [
      "2024-05-20 14:34:03,277 - INFO - Sending message with ID 0x1200fe7f, data: [5, 112, 0, 0, 7, 1, 149, 84]\n",
      "2024-05-20 14:34:03,279 - INFO - Motor CAN ID: 127, pos: 12.50 rad, vel: 0.03 rad/s, torque: -0.00 Nm\n"
     ]
    },
    {
     "data": {
      "text/plain": [
       "(127, 12.5, 0.028839551384756135, -0.0001831082627603564)"
      ]
     },
     "execution_count": 4,
     "metadata": {},
     "output_type": "execute_result"
    }
   ],
   "source": [
    "jog_vel = 5  # rad/s\n",
    "uint_value = motor._float_to_uint(jog_vel, motor.V_MIN, motor.V_MAX, 16)\n",
    "jog_vel_bytes = motor.format_data(data=[uint_value], format=\"u16\", type=\"encode\")[:2][::-1]\n",
    "\n",
    "data1 = [0x05, 0x70, 0x00, 0x00, 0x07, 0x01] + jog_vel_bytes\n",
    "motor.clear_can_rx()\n",
    "received_msg_data, received_msg_arbitration_id = motor.send_receive_can_message(\n",
    "    cmd_mode=motor.CmdModes.SINGLE_PARAM_WRITE, data2=motor.MAIN_CAN_ID, data1=data1\n",
    ")\n",
    "motor.parse_received_msg(received_msg_data, received_msg_arbitration_id)"
   ]
  },
  {
   "cell_type": "markdown",
   "id": "86cb5366",
   "metadata": {},
   "source": [
    "## 停止"
   ]
  },
  {
   "cell_type": "code",
   "execution_count": 6,
   "id": "c3f2c81d",
   "metadata": {},
   "outputs": [
    {
     "name": "stderr",
     "output_type": "stream",
     "text": [
      "2024-05-20 14:34:09,288 - INFO - Sending message with ID 0x300fe7f, data: []\n",
      "2024-05-20 14:34:09,289 - INFO - Motor CAN ID: 127, pos: 12.50 rad, vel: 0.05 rad/s, torque: -0.00 Nm\n"
     ]
    },
    {
     "ename": "error",
     "evalue": "ushort format requires 0 <= number <= (0x7fff * 2 + 1)",
     "output_type": "error",
     "traceback": [
      "\u001b[0;31m---------------------------------------------------------------------------\u001b[0m",
      "\u001b[0;31merror\u001b[0m                                     Traceback (most recent call last)",
      "Cell \u001b[0;32mIn[6], line 2\u001b[0m\n\u001b[1;32m      1\u001b[0m motor\u001b[38;5;241m.\u001b[39menable()\n\u001b[0;32m----> 2\u001b[0m \u001b[43mmotor\u001b[49m\u001b[38;5;241;43m.\u001b[39;49m\u001b[43msend_motor_control_command\u001b[49m\u001b[43m(\u001b[49m\u001b[43mtorque\u001b[49m\u001b[38;5;241;43m=\u001b[39;49m\u001b[38;5;241;43m1.0\u001b[39;49m\u001b[43m,\u001b[49m\u001b[43m \u001b[49m\u001b[43mtarget_angle\u001b[49m\u001b[38;5;241;43m=\u001b[39;49m\u001b[38;5;241;43m3.14\u001b[39;49m\u001b[43m,\u001b[49m\u001b[43m \u001b[49m\u001b[43mtarget_velocity\u001b[49m\u001b[38;5;241;43m=\u001b[39;49m\u001b[38;5;241;43m100\u001b[39;49m\u001b[43m,\u001b[49m\u001b[43m \u001b[49m\u001b[43mKp\u001b[49m\u001b[38;5;241;43m=\u001b[39;49m\u001b[38;5;241;43m1.0\u001b[39;49m\u001b[43m,\u001b[49m\u001b[43m \u001b[49m\u001b[43mKd\u001b[49m\u001b[38;5;241;43m=\u001b[39;49m\u001b[38;5;241;43m1.0\u001b[39;49m\u001b[43m)\u001b[49m\n",
      "File \u001b[0;32m~/AutoPaintRobot/src/can_test/scripts/pcan_cybergear.py:552\u001b[0m, in \u001b[0;36mCANMotorController.send_motor_control_command\u001b[0;34m(self, torque, target_angle, target_velocity, Kp, Kd)\u001b[0m\n\u001b[1;32m    549\u001b[0m Kd_mapped \u001b[38;5;241m=\u001b[39m \u001b[38;5;28mself\u001b[39m\u001b[38;5;241m.\u001b[39m_linear_mapping(Kd, \u001b[38;5;241m0.0\u001b[39m, \u001b[38;5;241m5.0\u001b[39m)\n\u001b[1;32m    551\u001b[0m \u001b[38;5;66;03m# 创建8字节的数据区\u001b[39;00m\n\u001b[0;32m--> 552\u001b[0m data1_bytes \u001b[38;5;241m=\u001b[39m \u001b[43mstruct\u001b[49m\u001b[38;5;241;43m.\u001b[39;49m\u001b[43mpack\u001b[49m\u001b[43m(\u001b[49m\n\u001b[1;32m    553\u001b[0m \u001b[43m    \u001b[49m\u001b[38;5;124;43m\"\u001b[39;49m\u001b[38;5;124;43mHHHH\u001b[39;49m\u001b[38;5;124;43m\"\u001b[39;49m\u001b[43m,\u001b[49m\u001b[43m \u001b[49m\u001b[43mtarget_angle_mapped\u001b[49m\u001b[43m,\u001b[49m\u001b[43m \u001b[49m\u001b[43mtarget_velocity_mapped\u001b[49m\u001b[43m,\u001b[49m\u001b[43m \u001b[49m\u001b[43mKp_mapped\u001b[49m\u001b[43m,\u001b[49m\u001b[43m \u001b[49m\u001b[43mKd_mapped\u001b[49m\n\u001b[1;32m    554\u001b[0m \u001b[43m\u001b[49m\u001b[43m)\u001b[49m\n\u001b[1;32m    555\u001b[0m data1 \u001b[38;5;241m=\u001b[39m [b \u001b[38;5;28;01mfor\u001b[39;00m b \u001b[38;5;129;01min\u001b[39;00m data1_bytes]\n\u001b[1;32m    557\u001b[0m \u001b[38;5;66;03m# 使用send_receive_can_message方法发送消息并接收响应\u001b[39;00m\n",
      "\u001b[0;31merror\u001b[0m: ushort format requires 0 <= number <= (0x7fff * 2 + 1)"
     ]
    }
   ],
   "source": [
    "motor.enable()\n",
    "motor.send_motor_control_command(torque=1.0, target_angle=3.14, target_velocity=10, Kp=1.0, Kd=1.0)"
   ]
  },
  {
   "cell_type": "code",
   "execution_count": 7,
   "id": "d0ea5625",
   "metadata": {},
   "outputs": [
    {
     "name": "stderr",
     "output_type": "stream",
     "text": [
      "2024-05-20 14:34:13,834 - INFO - Sending message with ID 0x400fe7f, data: [0, 0, 0, 0, 0, 0, 0, 0]\n",
      "2024-05-20 14:34:13,836 - INFO - Motor CAN ID: 127, pos: 12.50 rad, vel: 0.01 rad/s, torque: 0.06 Nm\n"
     ]
    },
    {
     "data": {
      "text/plain": [
       "(127, 12.5, 0.010528725108720494, 0.06024261844815726)"
      ]
     },
     "execution_count": 7,
     "metadata": {},
     "output_type": "execute_result"
    }
   ],
   "source": [
    "motor.disable()"
   ]
  },
  {
   "cell_type": "code",
   "execution_count": null,
   "id": "2ee255ca",
   "metadata": {},
   "outputs": [],
   "source": [
    "motor.set_0_pos()"
   ]
  },
  {
   "cell_type": "markdown",
   "id": "e4ef7cca",
   "metadata": {},
   "source": [
    "## 读取速度和位置\n",
    "- 发送参数：单个参数写⼊（通信类型18），写入地址0x7018（电流限制）值为 27A\n",
    "- 读取返回值：电机反馈数据（通信类型2），Byte0,1: 当前⻆度，Byte2,3:当前⻆速度"
   ]
  },
  {
   "cell_type": "code",
   "execution_count": null,
   "id": "80df3964",
   "metadata": {},
   "outputs": [],
   "source": [
    "motor.write_single_param(param_name=\"limit_cur\", value=27)"
   ]
  },
  {
   "cell_type": "markdown",
   "id": "fdcef3d0",
   "metadata": {},
   "source": [
    "# 位置模式\n",
    "## 发送电机模式参数写入命令（通信类型 18）\n",
    "设置 `runmode` 参数为 1\n",
    "- index(Byte0~1): `run_mode`，0x7005\n",
    "- value(Byte4~7): 1(位置模式)"
   ]
  },
  {
   "cell_type": "code",
   "execution_count": null,
   "id": "9c280a67",
   "metadata": {},
   "outputs": [],
   "source": [
    "motor.write_single_param(\"run_mode\", value=1)"
   ]
  },
  {
   "cell_type": "code",
   "execution_count": 17,
   "id": "bca0d55c",
   "metadata": {},
   "outputs": [
    {
     "name": "stderr",
     "output_type": "stream",
     "text": [
      "2024-05-20 13:21:28,141 - INFO - Sending message with ID 0x300fe7f, data: []\n",
      "2024-05-20 13:21:28,142 - INFO - Motor CAN ID: 127, pos: 11.94 rad, vel: -0.01 rad/s, torque: -0.00 Nm\n"
     ]
    },
    {
     "data": {
      "text/plain": [
       "(127, 11.941138323033492, -0.011444266422522276, -0.0001831082627603564)"
      ]
     },
     "execution_count": 17,
     "metadata": {},
     "output_type": "execute_result"
    }
   ],
   "source": [
    "motor.enable()"
   ]
  },
  {
   "cell_type": "markdown",
   "id": "83be3d62",
   "metadata": {},
   "source": [
    "## 最大速度：发送电机模式参数写入命令（通信类型 18）\n",
    "设置 `limit_spd` 参数为预设最大速度指令\n",
    "- index(Byte0~1): `limit_spd`, 0x7017\n",
    "- value(Byte4~7): `float` [0,30]rad/s"
   ]
  },
  {
   "cell_type": "code",
   "execution_count": null,
   "id": "cc433bc1",
   "metadata": {},
   "outputs": [],
   "source": [
    "motor.write_single_param(\"limit_spd\", value=10)"
   ]
  },
  {
   "cell_type": "markdown",
   "id": "903e4ed4",
   "metadata": {},
   "source": [
    "## 目标位置：发送电机模式参数写入命令（通信类型 18）\n",
    "设置 `loc_ref` 参数为预设位置指令\n",
    "- index(Byte0~1): `loc_ref`, 0x7016\n",
    "- value(Byte4~7): `float` rad"
   ]
  },
  {
   "cell_type": "code",
   "execution_count": 18,
   "id": "a07fba09",
   "metadata": {},
   "outputs": [
    {
     "name": "stderr",
     "output_type": "stream",
     "text": [
      "2024-05-20 13:21:35,626 - INFO - Sending message with ID 0x1200fe7f, data: [22, 112, 0, 0, 195, 245, 72, 64]\n",
      "2024-05-20 13:21:35,628 - INFO - Motor CAN ID: 127, pos: 11.93 rad, vel: -0.05 rad/s, torque: 0.03 Nm\n"
     ]
    },
    {
     "data": {
      "text/plain": [
       "(127, 11.930457007705805, -0.04898146028839534, 0.030212863355458808)"
      ]
     },
     "execution_count": 18,
     "metadata": {},
     "output_type": "execute_result"
    }
   ],
   "source": [
    "motor.write_single_param(\"loc_ref\", value=3.14)"
   ]
  },
  {
   "cell_type": "code",
   "execution_count": null,
   "id": "04c6ffed",
   "metadata": {},
   "outputs": [],
   "source": [
    "def set_motor_position_control(limit_spd, loc_ref):\n",
    "    # 设置电机最大速度\n",
    "    write_single_param(index=0x7017, value=limit_spd, format=\"f\")\n",
    "    # 设置电机目标位置\n",
    "    write_single_param(index=0x7016, value=loc_ref, format=\"f\")"
   ]
  },
  {
   "cell_type": "code",
   "execution_count": 14,
   "id": "7be81906",
   "metadata": {},
   "outputs": [
    {
     "ename": "PcanCanOperationError",
     "evalue": "A PCAN Channel has not been initialized yet or the initialization process has failed",
     "output_type": "error",
     "traceback": [
      "\u001b[0;31m---------------------------------------------------------------------------\u001b[0m",
      "\u001b[0;31mPcanCanOperationError\u001b[0m                     Traceback (most recent call last)",
      "Cell \u001b[0;32mIn[14], line 29\u001b[0m\n\u001b[1;32m     26\u001b[0m current_loc_ref \u001b[38;5;241m=\u001b[39m \u001b[38;5;241m0\u001b[39m\n\u001b[1;32m     27\u001b[0m direction_flag \u001b[38;5;241m=\u001b[39m \u001b[38;5;241m1\u001b[39m  \u001b[38;5;66;03m# 1表示正方向，-1表示反方向\u001b[39;00m\n\u001b[0;32m---> 29\u001b[0m \u001b[43mmotor\u001b[49m\u001b[38;5;241;43m.\u001b[39;49m\u001b[43mdisable\u001b[49m\u001b[43m(\u001b[49m\u001b[43m)\u001b[49m \u001b[38;5;66;03m#motor.set_0_pos()  # 当前0位\u001b[39;00m\n\u001b[1;32m     30\u001b[0m motor\u001b[38;5;241m.\u001b[39menable()\n\u001b[1;32m     32\u001b[0m \u001b[38;5;66;03m# 播放小星星\u001b[39;00m\n",
      "File \u001b[0;32m~/AutoPaintRobot/src/can_test/scripts/pcan_cybergear.py:480\u001b[0m, in \u001b[0;36mCANMotorController.disable\u001b[0;34m(self)\u001b[0m\n\u001b[1;32m    473\u001b[0m \u001b[38;5;28;01mdef\u001b[39;00m \u001b[38;5;21mdisable\u001b[39m(\u001b[38;5;28mself\u001b[39m):\n\u001b[1;32m    474\u001b[0m \u001b[38;5;250m    \u001b[39m\u001b[38;5;124;03m\"\"\"\u001b[39;00m\n\u001b[1;32m    475\u001b[0m \u001b[38;5;124;03m    停止运行电机。\u001b[39;00m\n\u001b[1;32m    476\u001b[0m \n\u001b[1;32m    477\u001b[0m \u001b[38;5;124;03m    返回:\u001b[39;00m\n\u001b[1;32m    478\u001b[0m \u001b[38;5;124;03m    解析后的接收消息。\u001b[39;00m\n\u001b[1;32m    479\u001b[0m \u001b[38;5;124;03m    \"\"\"\u001b[39;00m\n\u001b[0;32m--> 480\u001b[0m     \u001b[38;5;28;43mself\u001b[39;49m\u001b[38;5;241;43m.\u001b[39;49m\u001b[43mclear_can_rx\u001b[49m\u001b[43m(\u001b[49m\u001b[38;5;241;43m0\u001b[39;49m\u001b[43m)\u001b[49m  \u001b[38;5;66;03m# 空CAN接收缓存, 避免读到老数据\u001b[39;00m\n\u001b[1;32m    482\u001b[0m     received_msg_data, received_msg_arbitration_id \u001b[38;5;241m=\u001b[39m \u001b[38;5;28mself\u001b[39m\u001b[38;5;241m.\u001b[39msend_receive_can_message(\n\u001b[1;32m    483\u001b[0m         cmd_mode\u001b[38;5;241m=\u001b[39m\u001b[38;5;28mself\u001b[39m\u001b[38;5;241m.\u001b[39mCmdModes\u001b[38;5;241m.\u001b[39mMOTOR_STOP,\n\u001b[1;32m    484\u001b[0m         data2\u001b[38;5;241m=\u001b[39m\u001b[38;5;28mself\u001b[39m\u001b[38;5;241m.\u001b[39mMAIN_CAN_ID,\n\u001b[1;32m    485\u001b[0m         data1\u001b[38;5;241m=\u001b[39m[\u001b[38;5;241m0\u001b[39m, \u001b[38;5;241m0\u001b[39m, \u001b[38;5;241m0\u001b[39m, \u001b[38;5;241m0\u001b[39m, \u001b[38;5;241m0\u001b[39m, \u001b[38;5;241m0\u001b[39m, \u001b[38;5;241m0\u001b[39m, \u001b[38;5;241m0\u001b[39m],\n\u001b[1;32m    486\u001b[0m     )\n\u001b[1;32m    487\u001b[0m     \u001b[38;5;28;01mreturn\u001b[39;00m \u001b[38;5;28mself\u001b[39m\u001b[38;5;241m.\u001b[39mparse_received_msg(received_msg_data, received_msg_arbitration_id)\n",
      "File \u001b[0;32m~/AutoPaintRobot/src/can_test/scripts/pcan_cybergear.py:328\u001b[0m, in \u001b[0;36mCANMotorController.clear_can_rx\u001b[0;34m(self, timeout)\u001b[0m\n\u001b[1;32m    326\u001b[0m timeout_seconds \u001b[38;5;241m=\u001b[39m timeout \u001b[38;5;241m/\u001b[39m \u001b[38;5;241m1000.0\u001b[39m  \u001b[38;5;66;03m# Convert to seconds\u001b[39;00m\n\u001b[1;32m    327\u001b[0m \u001b[38;5;28;01mwhile\u001b[39;00m \u001b[38;5;28;01mTrue\u001b[39;00m:\n\u001b[0;32m--> 328\u001b[0m     received_msg \u001b[38;5;241m=\u001b[39m \u001b[38;5;28;43mself\u001b[39;49m\u001b[38;5;241;43m.\u001b[39;49m\u001b[43mbus\u001b[49m\u001b[38;5;241;43m.\u001b[39;49m\u001b[43mrecv\u001b[49m\u001b[43m(\u001b[49m\u001b[43mtimeout\u001b[49m\u001b[38;5;241;43m=\u001b[39;49m\u001b[43mtimeout_seconds\u001b[49m\u001b[43m)\u001b[49m\n\u001b[1;32m    329\u001b[0m     \u001b[38;5;28;01mif\u001b[39;00m received_msg \u001b[38;5;129;01mis\u001b[39;00m \u001b[38;5;28;01mNone\u001b[39;00m:\n\u001b[1;32m    330\u001b[0m         \u001b[38;5;28;01mbreak\u001b[39;00m\n",
      "File \u001b[0;32m/usr/local/lib/python3.8/dist-packages/can/bus.py:121\u001b[0m, in \u001b[0;36mBusABC.recv\u001b[0;34m(self, timeout)\u001b[0m\n\u001b[1;32m    117\u001b[0m time_left \u001b[38;5;241m=\u001b[39m timeout\n\u001b[1;32m    119\u001b[0m \u001b[38;5;28;01mwhile\u001b[39;00m \u001b[38;5;28;01mTrue\u001b[39;00m:\n\u001b[1;32m    120\u001b[0m     \u001b[38;5;66;03m# try to get a message\u001b[39;00m\n\u001b[0;32m--> 121\u001b[0m     msg, already_filtered \u001b[38;5;241m=\u001b[39m \u001b[38;5;28;43mself\u001b[39;49m\u001b[38;5;241;43m.\u001b[39;49m\u001b[43m_recv_internal\u001b[49m\u001b[43m(\u001b[49m\u001b[43mtimeout\u001b[49m\u001b[38;5;241;43m=\u001b[39;49m\u001b[43mtime_left\u001b[49m\u001b[43m)\u001b[49m\n\u001b[1;32m    123\u001b[0m     \u001b[38;5;66;03m# return it, if it matches\u001b[39;00m\n\u001b[1;32m    124\u001b[0m     \u001b[38;5;28;01mif\u001b[39;00m msg \u001b[38;5;129;01mand\u001b[39;00m (already_filtered \u001b[38;5;129;01mor\u001b[39;00m \u001b[38;5;28mself\u001b[39m\u001b[38;5;241m.\u001b[39m_matches_filters(msg)):\n",
      "File \u001b[0;32m/usr/local/lib/python3.8/dist-packages/can/interfaces/pcan/pcan.py:544\u001b[0m, in \u001b[0;36mPcanBus._recv_internal\u001b[0;34m(self, timeout)\u001b[0m\n\u001b[1;32m    541\u001b[0m         log\u001b[38;5;241m.\u001b[39mwarning(\u001b[38;5;28mself\u001b[39m\u001b[38;5;241m.\u001b[39m_get_formatted_error(result))\n\u001b[1;32m    543\u001b[0m     \u001b[38;5;28;01melse\u001b[39;00m:\n\u001b[0;32m--> 544\u001b[0m         \u001b[38;5;28;01mraise\u001b[39;00m PcanCanOperationError(\u001b[38;5;28mself\u001b[39m\u001b[38;5;241m.\u001b[39m_get_formatted_error(result))\n\u001b[1;32m    546\u001b[0m     \u001b[38;5;28;01mreturn\u001b[39;00m \u001b[38;5;28;01mNone\u001b[39;00m, \u001b[38;5;28;01mFalse\u001b[39;00m\n\u001b[1;32m    548\u001b[0m is_extended_id \u001b[38;5;241m=\u001b[39m \u001b[38;5;28mbool\u001b[39m(pcan_msg\u001b[38;5;241m.\u001b[39mMSGTYPE \u001b[38;5;241m&\u001b[39m PCAN_MESSAGE_EXTENDED\u001b[38;5;241m.\u001b[39mvalue)\n",
      "\u001b[0;31mPcanCanOperationError\u001b[0m: A PCAN Channel has not been initialized yet or the initialization process has failed"
     ]
    }
   ],
   "source": [
    "import time\n",
    "# 定义音符到电机参数的映射，为后面的音符分配更高的转速值\n",
    "note_to_speed = {\"C\": 6.6, \"D\": 6.8, \"E\": 7.3, \"F\": 8, \"G\": 9, \"A\": 10, \"B\": 13}\n",
    "\n",
    "# 定义小星星的音符和时长\n",
    "# 完整定义小星星的音符和时长\n",
    "notes = [\"C\", \"C\", \"G\", \"G\", \"A\", \"A\", \"G\",\n",
    "         \"F\", \"F\", \"E\", \"E\", \"D\", \"D\", \"C\",\n",
    "         \"G\", \"G\", \"F\", \"F\", \"E\", \"E\", \"D\",\n",
    "         \"G\", \"G\", \"F\", \"F\", \"E\", \"E\", \"D\",\n",
    "         \"C\", \"C\", \"G\", \"G\", \"A\", \"A\", \"G\",\n",
    "         \"F\", \"F\", \"E\", \"E\", \"D\", \"D\", \"C\"]\n",
    "\n",
    "durations = [1, 1, 1, 1, 1, 1, 2,\n",
    "             1, 1, 1, 1, 1, 1, 2,\n",
    "             1, 1, 1, 1, 1, 1, 2,\n",
    "             1, 1, 1, 1, 1, 1, 2,\n",
    "             1, 1, 1, 1, 1, 1, 2,\n",
    "             1, 1, 1, 1, 1, 1, 2]  # 以四分音符为单位\n",
    "\n",
    "x_speed = 1.5 # 速度倍数\n",
    "x_duration = 0.4 # 间隔倍数，如果小于1，就是减小时间间隔\n",
    "\n",
    "\n",
    "# 初始化电机的当前位置和方向标志\n",
    "current_loc_ref = 0\n",
    "direction_flag = 1  # 1表示正方向，-1表示反方向\n",
    "\n",
    "motor.disable() #motor.set_0_pos()  # 当前0位\n",
    "motor.enable()\n",
    "\n",
    "# 播放小星星\n",
    "for note, duration in zip(notes, durations):\n",
    "    duration = duration * x_duration\n",
    "    \n",
    "    # 计算电机的转速和目标位置\n",
    "    limit_spd = note_to_speed[note] * x_speed\n",
    "    loc_ref = current_loc_ref + (direction_flag * limit_spd * duration * 1.5)\n",
    "\n",
    "    # 使用电机参数设置函数\n",
    "    motor.set_motor_position_control(limit_spd=limit_spd, loc_ref=loc_ref)\n",
    "\n",
    "    # 更新电机的当前位置\n",
    "    current_loc_ref = loc_ref\n",
    "\n",
    "    # 反转方向标志\n",
    "#     direction_flag *= -1\n",
    "\n",
    "    # 休眠一段时间以模拟音符的时长（这里假设一个四分音符的时长是1秒）\n",
    "    time.sleep(duration * x_speed)\n",
    "motor.disable()"
   ]
  },
  {
   "cell_type": "code",
   "execution_count": null,
   "id": "98831b4d",
   "metadata": {},
   "outputs": [],
   "source": [
    "motor.disable()\n",
    "motor.set_0_pos()"
   ]
  },
  {
   "cell_type": "markdown",
   "id": "201c672c",
   "metadata": {},
   "source": [
    "## 速度模式"
   ]
  },
  {
   "cell_type": "code",
   "execution_count": null,
   "id": "e063c5e6",
   "metadata": {},
   "outputs": [],
   "source": [
    "motor.write_single_param(\"run_mode\", value=2)"
   ]
  },
  {
   "cell_type": "code",
   "execution_count": null,
   "id": "d9fef236",
   "metadata": {},
   "outputs": [],
   "source": [
    "motor.enable()"
   ]
  },
  {
   "cell_type": "code",
   "execution_count": null,
   "id": "ed2d8ad0",
   "metadata": {},
   "outputs": [],
   "source": [
    "motor.write_single_param(\"spd_ref\", value=5)"
   ]
  },
  {
   "cell_type": "code",
   "execution_count": null,
   "id": "80e4a68e",
   "metadata": {},
   "outputs": [],
   "source": [
    "motor.disable()\n",
    "motor.set_0_pos()"
   ]
  }
 ],
 "metadata": {
  "kernelspec": {
   "display_name": "Python 3 (ipykernel)",
   "language": "python",
   "name": "python3"
  },
  "language_info": {
   "codemirror_mode": {
    "name": "ipython",
    "version": 3
   },
   "file_extension": ".py",
   "mimetype": "text/x-python",
   "name": "python",
   "nbconvert_exporter": "python",
   "pygments_lexer": "ipython3",
   "version": "3.8.10"
  }
 },
 "nbformat": 4,
 "nbformat_minor": 5
}
